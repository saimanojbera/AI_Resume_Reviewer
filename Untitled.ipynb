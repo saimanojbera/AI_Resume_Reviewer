{
 "cells": [
  {
   "cell_type": "code",
   "execution_count": 1,
   "id": "660643e4-19b4-4316-b5f3-fe6eb25a3b4a",
   "metadata": {},
   "outputs": [
    {
     "ename": "SyntaxError",
     "evalue": "invalid syntax (52677499.py, line 1)",
     "output_type": "error",
     "traceback": [
      "\u001b[1;36m  Cell \u001b[1;32mIn[1], line 1\u001b[1;36m\u001b[0m\n\u001b[1;33m    streamlit run resume_reviewer.py\u001b[0m\n\u001b[1;37m              ^\u001b[0m\n\u001b[1;31mSyntaxError\u001b[0m\u001b[1;31m:\u001b[0m invalid syntax\n"
     ]
    }
   ],
   "source": [
    "streamlit run resume_reviewer.py\n"
   ]
  },
  {
   "cell_type": "code",
   "execution_count": 1,
   "id": "f581f6ca-f693-4bbb-8cae-8c298410a3f0",
   "metadata": {},
   "outputs": [
    {
     "name": "stdout",
     "output_type": "stream",
     "text": [
      "Label encoder saved successfully!\n"
     ]
    }
   ],
   "source": [
    "from sklearn.preprocessing import LabelEncoder\n",
    "import joblib\n",
    "import pandas as pd\n",
    "\n",
    "# Load dataset\n",
    "data = pd.read_csv(\"Resume.csv\")\n",
    "\n",
    "# Initialize and fit the Label Encoder\n",
    "label_encoder = LabelEncoder()\n",
    "data['Encoded_Category'] = label_encoder.fit_transform(data['Category'])  # Adjust column name as per your dataset\n",
    "\n",
    "# Save the Label Encoder\n",
    "joblib.dump(label_encoder, \"label_encoder.pkl\")\n",
    "print(\"Label encoder saved successfully!\")\n"
   ]
  },
  {
   "cell_type": "code",
   "execution_count": null,
   "id": "cbbdeb63-1af0-4b26-87f7-61087cd7de65",
   "metadata": {},
   "outputs": [],
   "source": []
  }
 ],
 "metadata": {
  "kernelspec": {
   "display_name": "Python 3 (ipykernel)",
   "language": "python",
   "name": "python3"
  },
  "language_info": {
   "codemirror_mode": {
    "name": "ipython",
    "version": 3
   },
   "file_extension": ".py",
   "mimetype": "text/x-python",
   "name": "python",
   "nbconvert_exporter": "python",
   "pygments_lexer": "ipython3",
   "version": "3.13.1"
  }
 },
 "nbformat": 4,
 "nbformat_minor": 5
}
